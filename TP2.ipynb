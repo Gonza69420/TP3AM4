{
 "cells": [
  {
   "cell_type": "markdown",
   "metadata": {
    "collapsed": true
   },
   "source": [
    "# Trabajo Práctico N° 2 : Ecuaciones diferenciales de orden superior\n",
    "Integrantes : Agustin Augurusa, Gonzalo Mato, Juan Cruz Estevez, Pedro Elizalde\n",
    "\n",
    "## Introducción\n",
    "Dado que este es un experimento numérico para medir la efectividad de los métodos para\n",
    "la resolución numérica de ecuaciones diferenciales se ha elegido un problema cuya\n",
    "solución analítica es posible hallar usando los métodos que provee el Análisis Matemático.\n",
    "\n",
    "Se pide diseñar una aplicación para el método predictor-corrector (Adams\n",
    "Bashforth-Moulton) de quinto orden acoplado con el método de Runge Kutta de 4 orden\n",
    "(para los primeros valores) que sea capaz de resolver un sistema de 3 ecuaciones\n",
    "diferenciales de primer orden.\n",
    "\n",
    "Luego, probar la efectividad del algoritmo con la siguiente ecuacion diferencial de tercer orden\n",
    "\n",
    "$$ y''' + y'' - 4y' - 4y = x $$\n",
    "\n",
    "con los siguientes valores iniciales $ y(0) = 2.25 y'(0) = -3.25; y''(0) = 5 $\n",
    "\n",
    "## Solucion Analitica\n",
    "\n",
    "$$ -\\frac{1}{8}e^x^2 + e^{-x} + \\frac{9}{8}e^{-2x} - \\frac{x}{4} + \\frac{1}{4} $$\n",
    "\n",
    "## Algoritmo\n",
    "\n",
    "Dado el problema de valores iniciales\n",
    "\n",
    "$$ y' = f(x,y) $$ con $$ y(x_o) = y_o $$\n",
    "\n",
    "Primero se calculan los $ y_1, y_2, y_3 $ e $ y_4 $ utilizando Runge-Kutta de orden 4.\n",
    "A partir de $ y_5 $, se predice el valor de $ y_i $ con Adams-Bashford de orden 5 y se mejora el valor anterior tantas\n",
    "veces como sea necesario con Adams-Moulton de orden 5.\n",
    "\n",
    "### Sistema de ecuaciones\n",
    "\n",
    "Para resolver nuestra ecuación diferencial de tercer orden mediante el algoritmo mencionado anteriormente,\n",
    "primero definimos un sistema de EDO de primer orden (una ecuación por grado de la original) a partir de un cambio de variables."
   ]
  },
  {
   "cell_type": "code",
   "execution_count": null,
   "outputs": [],
   "source": [
    "import math\n",
    "e = math.e\n",
    "\n",
    "f1 = lambda x, y, z, w: z\n",
    "f2 = lambda x, y, z, w: w\n",
    "f3 = lambda x, y, z, w: x + 4y +4z - w\n",
    "\n",
    "#Solucion Analitica\n",
    "solución = lambda x: (-1/8) * e ** (2*x) + e** (-x) + (9/8) * e ** (-2 * x) - x/4 + (1 / 4)"
   ],
   "metadata": {
    "collapsed": false,
    "pycharm": {
     "is_executing": true
    }
   }
  },
  {
   "cell_type": "markdown",
   "source": [
    "### Codigo del Algoritmo\n",
    "\n",
    "Primero adaptamos el algoritmo de Runge Kutta para el sistema de ecuaciones. Acoplado con el método predictor-corrector\n",
    "AB y AM, se debe hacer RK hasta $y_4$ (4ta iteración de i), luego seguir con AB y AM a partir de $y_5$, hasta llegar a $y(b)$.\n",
    "Para cada valor de AB obtenido se lo mejoro un total de 10 veces con AM.\n",
    "\n",
    "Parámetros:\n",
    "    - f1, f2, f3 : sistema de ecuaciones\n",
    "    - x0, y0, z0, w0 : valores iniciales\n",
    "    - h : incrementos\n",
    "    - b : valor en el cual se quiere evaluar la función"
   ],
   "metadata": {
    "collapsed": false
   }
  },
  {
   "cell_type": "code",
   "execution_count": null,
   "outputs": [],
   "source": [
    "def resolution_3_EDO_system(f1, f2, f3, x0, y0, z0, w0, h, b):\n",
    "    y = [y0]\n",
    "    x = [x0]\n",
    "    z = [z0]\n",
    "    w = [w0]\n",
    "    for i in range(1, 5):\n",
    "        x.append(x0 + i * h)\n",
    "        y.append(0)\n",
    "        z.append(0)\n",
    "        w.append(0)\n",
    "    for i in range(4):\n",
    "        k1 = h * f1(x[i], y[i], z[i], w[i])  # z\n",
    "        l1 = h * f2(x[i], y[i], z[i], w[i])  # w\n",
    "        m1 = h * f3(x[i], y[i], z[i], w[i])  # w'\n",
    "\n",
    "        k2 = h * f1(x[i] + 0.5 * h, y[i] + 0.5 * k1, z[i] + 0.5 * l1, w[i] + 0.5 * m1)\n",
    "        l2 = h * f2(x[i] + 0.5 * h, y[i] + 0.5 * k1, z[i] + 0.5 * l1, w[i] + 0.5 * m1)\n",
    "        m2 = h * f3(x[i] + 0.5 * h, y[i] + 0.5 * k1, z[i] + 0.5 * l1, w[i] + 0.5 * m1)\n",
    "\n",
    "        k3 = h * f1(x[i] + 0.5 * h, y[i] + 0.5 * k2, z[i] + 0.5 * l2, w[i] + 0.5 * m2)\n",
    "        l3 = h * f2(x[i] + 0.5 * h, y[i] + 0.5 * k2, z[i] + 0.5 * l2, w[i] + 0.5 * m2)\n",
    "        m3 = h * f3(x[i] + 0.5 * h, y[i] + 0.5 * k2, z[i] + 0.5 * l2, w[i] + 0.5 * m2)\n",
    "\n",
    "        k4 = h * f1(x[i] + h, y[i] + k3, z[i] + l3, w[i] + m3)\n",
    "        l4 = h * f2(x[i] + h, y[i] + k3, z[i] + l3, w[i] + m3)\n",
    "        m4 = h * f3(x[i] + h, y[i] + k3, z[i] + l3, w[i] + m3)\n",
    "\n",
    "        y[i + 1] = y[i + 1] = y[i] + (k1 + 2 * k2 + 2 * k3 + k4) / 6\n",
    "        z[i + 1] = z[i + 1] = z[i] + (l1 + 2 * l2 + 2 * l3 + l4) / 6\n",
    "        w[i + 1] = w[i + 1] = w[i] + (m1 + 2 * m2 + 2 * m3 + m4) / 6\n",
    "    # Adams-Bashforth de 5 pasos\n",
    "    i = 4\n",
    "    while x[i] != b:\n",
    "        x.append(x0 + (i + 1) * h)\n",
    "        y.append(y[i] + (h / 720) * (1901 * f1(x[i], y[i], z[i], w[i]) -\n",
    "                                     2774 * f1(x[i - 1], y[i - 1], z[i - 1], w[i - 1]) +\n",
    "                                     2616 * f1(x[i - 2], y[i - 2], z[i - 2], w[i - 2]) -\n",
    "                                     1274 * f1(x[i - 3], y[i - 3], z[i - 3], w[i - 3])) +\n",
    "                                     251 * f1(x[i - 4], y[i - 4], z[i - 4], w[i - 4]))\n",
    "        z.append(z[i] + (h / 720) * (1901 * f2(x[i], y[i], z[i], w[i]) -\n",
    "                                     2774 * f2(x[i - 1], y[i - 1], z[i - 1], w[i - 1]) +\n",
    "                                     2616 * f2(x[i - 2], y[i - 2], z[i - 2], w[i - 2]) -\n",
    "                                     1274 * f2(x[i - 3], y[i - 3], z[i - 3], w[i - 3])) +\n",
    "                                     251 * f2(x[i - 4], y[i - 4], z[i - 4], w[i - 4]))\n",
    "        w.append(w[i] + (h / 720) * (1901 * f3(x[i], y[i], z[i], w[i]) -\n",
    "                                     2774 * f3(x[i - 1], y[i - 1], z[i - 1], w[i - 1]) +\n",
    "                                     2616 * f3(x[i - 2], y[i - 2], z[i - 2], w[i - 2]) -\n",
    "                                     1274 * f3(x[i - 3], y[i - 3], z[i - 3], w[i - 3])) +\n",
    "                                     251 * f3(x[i - 4], y[i - 4], z[i - 4], w[i - 4]))\n",
    "        # Adams-Moulton de 5 pasos\n",
    "        for j in range(10):\n",
    "            y[i + 1] = y[i] + (h / 720) * (251 * f1(x[i + 1], y[i + 1], z[i + 1], w[i + 1]) +\n",
    "                                           646 * f1(x[i], y[i], z[i], w[i]) -\n",
    "                                           264 * f1(x[i - 1], y[i - 1], z[i - 1], w[i - 1]) +\n",
    "                                           106 * f1(x[i - 2], y[i - 2], z[i - 2], w[i - 2]) -\n",
    "                                           19 * f1(x[i - 3], y[i - 3], z[i - 3], w[i - 3]))\n",
    "            z[i + 1] = z[i] + (h / 720) * (251 * f2(x[i + 1], y[i + 1], z[i + 1], w[i + 1]) +\n",
    "                                           646 * f2(x[i], y[i], z[i], w[i]) -\n",
    "                                           264 * f2(x[i - 1], y[i - 1], z[i - 1], w[i - 1]) +\n",
    "                                           106 * f2(x[i - 2], y[i - 2], z[i - 2], w[i - 2]) -\n",
    "                                           19 * f2(x[i - 3], y[i - 3], z[i - 3], w[i - 3]))\n",
    "            w[i + 1] = w[i] + (h / 720) * (251 * f3(x[i + 1], y[i + 1], z[i + 1], w[i + 1]) +\n",
    "                                           646 * f3(x[i], y[i], z[i], w[i]) -\n",
    "                                           264 * f3(x[i - 1], y[i - 1], z[i - 1], w[i - 1]) +\n",
    "                                           106 * f3(x[i - 2], y[i - 2], z[i - 2], w[i - 2]) -\n",
    "                                           19 * f3(x[i - 3], y[i - 3], z[i - 3], w[i - 3]))\n",
    "        i += 1\n",
    "    return y[i]"
   ],
   "metadata": {
    "collapsed": false,
    "pycharm": {
     "is_executing": true
    }
   }
  },
  {
   "cell_type": "markdown",
   "source": [
    "### Datos Obtenidos\n",
    "\n",
    "Utilizando la solución analítica:\n",
    "\n",
    "x|y\n",
    "-|-\n",
    "1|0.20610\n",
    "2|0.43394\n",
    "3|3.99154\n",
    "4|19.74790\n",
    "5|78.34093\n",
    "6|280.16321\n",
    "7|944.32459\n",
    "8|3063.76296\n",
    "9|9678.68379\n",
    "10|29980.46741\n",
    "\n",
    "Utilizando el algoritmo:\n",
    "\n",
    "- Con $ h = 0.2 $\n",
    "\n",
    "x|y\n",
    "-|-\n",
    "1|0.20607\n",
    "2|0.43396\n",
    "3|3.99173\n",
    "4|19.74876\n",
    "5|78.34436\n",
    "6|280.17577\n",
    "7|944.36841\n",
    "8|3063.91077\n",
    "9|9679.16998\n",
    "10|29982.03561\n"
   ],
   "metadata": {
    "collapsed": false
   }
  },
  {
   "cell_type": "code",
   "execution_count": 3,
   "outputs": [
    {
     "data": {
      "text/plain": "<Figure size 432x288 with 1 Axes>",
      "image/png": "[encoded data removed]"
     },
     "metadata": {
      "needs_background": "light"
     },
     "output_type": "display_data"
    }
   ],
   "source": [
    "import pylab as pl\n",
    "\n",
    "x = [1, 2, 3, 4, 5, 6, 7, 8, 9, 10]\n",
    "# Resultados utilizando la funcion analitica\n",
    "y = [0.20610, 0.43394, 3.99154, 19.74790, 78.34093, 280.16321, 944.32459, 3063.76296, 9678.68379, 29980.46741]\n",
    "# Resultados utilizando el algoritmo con h = 0.2\n",
    "y_1 = [0.20607, 0.43396, 3.99173, 19.74876, 78.34436, 280.17577, 944.36841, 3063.91077, 9679.16998, 29982.03561]\n",
    "\n",
    "y_error1 = [y_1[0]-y[0], y_1[1]-y[1], y_1[2]-y[2], y_1[3]-y[3], y_1[4]-y[4], y_1[5]-y[5], y_1[6]-y[6], y_1[7]-y[7], y_1[8]-y[8], y_1[9]-y[9]]\n",
    "y_error2 = [y_2[0]-y[0], y_2[1]-y[1], y_2[2]-y[2], y_2[3]-y[3], y_2[4]-y[4], y_2[5]-y[5], y_2[6]-y[6], y_2[7]-y[7], y_2[8]-y[8], y_2[9]-y[9]]\n",
    "y_error3 = [y_3[0]-y[0], y_3[1]-y[1], y_3[2]-y[2], y_3[3]-y[3], y_3[4]-y[4], y_3[5]-y[5], y_3[6]-y[6], y_3[7]-y[7], y_3[8]-y[8], y_3[9]-y[9]]\n",
    "\n",
    "pl.plot(x, y_error1, label=\"h = 0.2\")\n",
    "pl.legend(loc='upper left')\n",
    "pl.show()"
   ],
   "metadata": {
    "collapsed": false
   }
  },
  {
   "cell_type": "markdown",
   "source": [
    "### Conclusión\n",
    "\n",
    "Podemos obsevar que a medida que se reduce el valor del $h$, el error también disminuye, ya que con un $h$ mas chico el\n",
    "tamaño de paso entre iteracion es menor.\n"
   ],
   "metadata": {
    "collapsed": false
   }
  }
 ],
 "metadata": {
  "kernelspec": {
   "display_name": "Python 3",
   "language": "python",
   "name": "python3"
  },
  "language_info": {
   "codemirror_mode": {
    "name": "ipython",
    "version": 2
   },
   "file_extension": ".py",
   "mimetype": "text/x-python",
   "name": "python",
   "nbconvert_exporter": "python",
   "pygments_lexer": "ipython2",
   "version": "2.7.6"
  }
 },
 "nbformat": 4,
 "nbformat_minor": 0
}
